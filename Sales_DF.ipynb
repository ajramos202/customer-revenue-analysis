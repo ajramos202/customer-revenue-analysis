{
  "nbformat": 4,
  "nbformat_minor": 0,
  "metadata": {
    "colab": {
      "provenance": [],
      "authorship_tag": "ABX9TyNpuPTlTxDtKJUNFWHzsPKo",
      "include_colab_link": true
    },
    "kernelspec": {
      "name": "python3",
      "display_name": "Python 3"
    },
    "language_info": {
      "name": "python"
    }
  },
  "cells": [
    {
      "cell_type": "markdown",
      "metadata": {
        "id": "view-in-github",
        "colab_type": "text"
      },
      "source": [
        "<a href=\"https://colab.research.google.com/github/ajramos202/customer-revenue-analysis/blob/main/Sales_DF.ipynb\" target=\"_parent\"><img src=\"https://colab.research.google.com/assets/colab-badge.svg\" alt=\"Open In Colab\"/></a>"
      ]
    },
    {
      "cell_type": "code",
      "source": [
        "pip install faker"
      ],
      "metadata": {
        "colab": {
          "base_uri": "https://localhost:8080/"
        },
        "id": "Jvz_9WJqDm7_",
        "outputId": "6769ff82-beb5-4da9-a850-cb964d275be3"
      },
      "execution_count": 2,
      "outputs": [
        {
          "output_type": "stream",
          "name": "stdout",
          "text": [
            "Collecting faker\n",
            "  Downloading Faker-35.2.0-py3-none-any.whl.metadata (15 kB)\n",
            "Requirement already satisfied: python-dateutil>=2.4 in /usr/local/lib/python3.11/dist-packages (from faker) (2.8.2)\n",
            "Requirement already satisfied: typing-extensions in /usr/local/lib/python3.11/dist-packages (from faker) (4.12.2)\n",
            "Requirement already satisfied: six>=1.5 in /usr/local/lib/python3.11/dist-packages (from python-dateutil>=2.4->faker) (1.17.0)\n",
            "Downloading Faker-35.2.0-py3-none-any.whl (1.9 MB)\n",
            "\u001b[?25l   \u001b[90m━━━━━━━━━━━━━━━━━━━━━━━━━━━━━━━━━━━━━━━━\u001b[0m \u001b[32m0.0/1.9 MB\u001b[0m \u001b[31m?\u001b[0m eta \u001b[36m-:--:--\u001b[0m\r\u001b[2K   \u001b[91m━━━━━━━━━━━━━\u001b[0m\u001b[91m╸\u001b[0m\u001b[90m━━━━━━━━━━━━━━━━━━━━━━━━━━\u001b[0m \u001b[32m0.7/1.9 MB\u001b[0m \u001b[31m19.8 MB/s\u001b[0m eta \u001b[36m0:00:01\u001b[0m\r\u001b[2K   \u001b[90m━━━━━━━━━━━━━━━━━━━━━━━━━━━━━━━━━━━━━━━━\u001b[0m \u001b[32m1.9/1.9 MB\u001b[0m \u001b[31m30.0 MB/s\u001b[0m eta \u001b[36m0:00:00\u001b[0m\n",
            "\u001b[?25hInstalling collected packages: faker\n",
            "Successfully installed faker-35.2.0\n"
          ]
        }
      ]
    },
    {
      "cell_type": "code",
      "execution_count": 58,
      "metadata": {
        "id": "kkB19ua-6xgK",
        "colab": {
          "base_uri": "https://localhost:8080/"
        },
        "outputId": "dd57b304-9dc1-4cd3-d4a2-4910fb9f0ada"
      },
      "outputs": [
        {
          "output_type": "stream",
          "name": "stdout",
          "text": [
            "                               Order_ID           Customer  Product  Quantity  \\\n",
            "0  ab1d7359-6f30-4605-b7a1-f25255d75ca6    Taylor Anderson   Laptop         2   \n",
            "1  3bfa07d4-e069-486f-93da-97883effa9e8     Jennifer Walsh  Desktop         4   \n",
            "2  b37edce3-ffdd-47cd-8f8d-d3f3b23498be      Brian Andrews  Desktop         3   \n",
            "3  cd66dcb2-59d8-4d8d-92b7-94f05022a20f  Michael Rodriguez   Tablet         1   \n",
            "4  8686e11a-f925-404f-a782-4ac0d84dc4f3      Cameron Avila    Phone         1   \n",
            "\n",
            "        Price  Discount_Applied  \\\n",
            "0  793.306075              0.12   \n",
            "1  740.712389              0.17   \n",
            "2  670.486084              0.09   \n",
            "3  352.811890              0.05   \n",
            "4  278.315169              0.12   \n",
            "\n",
            "                                    Shipping_Address  Shipping_Cost  \\\n",
            "0  81168 Cook Squares Suite 989\\nGreermouth, KS 0...      47.107841   \n",
            "1  7025 Rice Harbor Apt. 394\\nLake Dylanhaven, NV...      20.085824   \n",
            "2  95206 Brown Branch Apt. 728\\nJohnsonville, CA ...      28.860781   \n",
            "3              3415 Morgan Row\\nPort Daisy, SC 23065      31.782951   \n",
            "4  700 Christina Isle Suite 330\\nWarnerville, PA ...      24.812822   \n",
            "\n",
            "   Total_Cost Purchase_Date  New_Customer Payment_Method Order_status  \\\n",
            "0     1443.33    2021-10-20          True    Credit Card   Processing   \n",
            "1     2479.25    2024-10-22          True         PayPal    Cancelled   \n",
            "2     1859.29    2022-04-05         False    Credit Card    Cancelled   \n",
            "3      366.95    2024-02-12         False         PayPal      Shipped   \n",
            "4      269.73    2021-10-27         False    Credit Card   Processing   \n",
            "\n",
            "  Customer_Satisfaction  \n",
            "0             Excellent  \n",
            "1             Excellent  \n",
            "2                  Fair  \n",
            "3                  Poor  \n",
            "4                  Good  \n",
            "<class 'pandas.core.frame.DataFrame'>\n",
            "RangeIndex: 200 entries, 0 to 199\n",
            "Data columns (total 14 columns):\n",
            " #   Column                 Non-Null Count  Dtype  \n",
            "---  ------                 --------------  -----  \n",
            " 0   Order_ID               200 non-null    object \n",
            " 1   Customer               200 non-null    object \n",
            " 2   Product                200 non-null    object \n",
            " 3   Quantity               200 non-null    int64  \n",
            " 4   Price                  200 non-null    float64\n",
            " 5   Discount_Applied       200 non-null    float64\n",
            " 6   Shipping_Address       200 non-null    object \n",
            " 7   Shipping_Cost          200 non-null    float64\n",
            " 8   Total_Cost             200 non-null    float64\n",
            " 9   Purchase_Date          200 non-null    object \n",
            " 10  New_Customer           200 non-null    bool   \n",
            " 11  Payment_Method         200 non-null    object \n",
            " 12  Order_status           200 non-null    object \n",
            " 13  Customer_Satisfaction  200 non-null    object \n",
            "dtypes: bool(1), float64(4), int64(1), object(8)\n",
            "memory usage: 20.6+ KB\n",
            "None\n"
          ]
        }
      ],
      "source": [
        "# Imports\n",
        "\n",
        "from faker import Faker\n",
        "import pandas as pd\n",
        "import random\n",
        "import matplotlib.pyplot as plt\n",
        "import seaborn as sns\n",
        "import numpy as np\n",
        "\n",
        "# Creating a pandas Dataframe using faker to fill in the information at random\n",
        "\n",
        "fake = Faker()\n",
        "data = {\n",
        "    \"Order_ID\": [fake.uuid4() for _ in range(200)],\n",
        "    \"Customer\": [fake.name() for _ in range(200)],\n",
        "    \"Product\": [random.choice([\"Laptop\", \"Phone\", \"Tablet\", \"Monitor\", \"Desktop\"]) for _ in range(200)],\n",
        "    \"Quantity\": [random.randint(1, 5) for _ in range(200)],\n",
        "    \"Price\": [random.uniform(100, 1000) for _ in range(200)],\n",
        "    \"Discount_Applied\": [round(random.uniform(0, 0.2), 2) for _ in range(200)],\n",
        "    \"Shipping_Address\": [fake.address() for _ in range(200)],\n",
        "    \"Shipping_Cost\": [random.uniform(10, 50) for _ in range(200)],\n",
        "    \"Total_Cost\": [], # Will fill in below\n",
        "    \"Purchase_Date\": [fake.date_this_decade() for _ in range(200)],\n",
        "    \"New_Customer\": [random.choice([True, False]) for _ in range(200)],\n",
        "    \"Payment_Method\": [random.choice([\"Credit Card\", \"PayPal\", \"Cash on Delivery\"]) for _ in range(200)],\n",
        "    \"Order_status\": [random.choice([\"Pending\", \"Processing\", \"Shipped\", \"Delivered\", \"Cancelled\"]) for _ in range(200)],\n",
        "    \"Customer_Satisfaction\": [random.choice([\"Excellent\", \"Very Good\", \"Good\", \"Fair\", \"Poor\"]) for _ in range(200)],\n",
        "\n",
        "}\n",
        "for i in range(200):\n",
        "    data[\"Total_Cost\"].append(round(\n",
        "        data[\"Quantity\"][i] * data[\"Price\"][i] * (1 - data[\"Discount_Applied\"][i]) + data[\"Shipping_Cost\"][i], 2))\n",
        "df = pd.DataFrame(data)\n",
        "print(df.head())\n",
        "print(df.info())"
      ]
    },
    {
      "cell_type": "code",
      "source": [
        "df.columns"
      ],
      "metadata": {
        "colab": {
          "base_uri": "https://localhost:8080/"
        },
        "id": "igGCI8AOEqp4",
        "outputId": "9522ad95-5d0e-40a8-c1a1-2d7088e80d2a"
      },
      "execution_count": 4,
      "outputs": [
        {
          "output_type": "execute_result",
          "data": {
            "text/plain": [
              "Index(['Order_ID', 'Customer', 'Product', 'Quantity', 'Price',\n",
              "       'Discount_Applied', 'Shipping_Address', 'Shipping_Cost', 'Total_Cost',\n",
              "       'Purchase_Date', 'New_Customer', 'Payment_Method', 'Order_status',\n",
              "       'Customer_Satisfaction'],\n",
              "      dtype='object')"
            ]
          },
          "metadata": {},
          "execution_count": 4
        }
      ]
    },
    {
      "cell_type": "code",
      "source": [
        "df['Product'].unique()"
      ],
      "metadata": {
        "colab": {
          "base_uri": "https://localhost:8080/"
        },
        "id": "lISiu0yVFO5H",
        "outputId": "b28636d9-c55e-4105-eb4c-f7c8bd7bb705"
      },
      "execution_count": 5,
      "outputs": [
        {
          "output_type": "execute_result",
          "data": {
            "text/plain": [
              "array(['Desktop', 'Monitor', 'Laptop', 'Tablet', 'Phone'], dtype=object)"
            ]
          },
          "metadata": {},
          "execution_count": 5
        }
      ]
    },
    {
      "cell_type": "code",
      "source": [
        "# Were there more new or returning customers?\n",
        "df[\"New_Customer\"] = df[\"New_Customer\"].replace({True: \"Yes\", False: \"No\"})\n",
        "new_customer_percentages = df[\"New_Customer\"].value_counts(normalize=True) * 100\n",
        "formatted_output = \"\\n\".join([f\"{index}: {value:.2f}%\" for index, value in new_customer_percentages.items()])\n",
        "print(f\"New Customer:\\n{formatted_output}\")\n"
      ],
      "metadata": {
        "colab": {
          "base_uri": "https://localhost:8080/"
        },
        "id": "OJ3Z5gyN4Jv7",
        "outputId": "b71bca69-05cc-4a8f-c06d-e3aecabdcafc"
      },
      "execution_count": 6,
      "outputs": [
        {
          "output_type": "stream",
          "name": "stdout",
          "text": [
            "New Customer:\n",
            "Yes: 51.00%\n",
            "No: 49.00%\n"
          ]
        }
      ]
    },
    {
      "cell_type": "code",
      "source": [
        "# On average how much did each customer spend?\n",
        "average_spent = df['Total_Cost'].mean()\n",
        "print(f'On average, each customer spent ${round(average_spent, 2)}')"
      ],
      "metadata": {
        "colab": {
          "base_uri": "https://localhost:8080/"
        },
        "id": "gm8yib_VB0nk",
        "outputId": "26d7c6b9-1457-426f-e595-ef5d8846d6d2"
      },
      "execution_count": 11,
      "outputs": [
        {
          "output_type": "stream",
          "name": "stdout",
          "text": [
            "On average, each customer spent $1507.38\n"
          ]
        }
      ]
    },
    {
      "cell_type": "code",
      "source": [
        "# What payment method was used the most?\n",
        "payment_counts = df[\"Payment_Method\"].value_counts()\n",
        "for type, count in payment_counts.items():\n",
        "  print(f'{count} customers chose to use {type} as their payment method.')"
      ],
      "metadata": {
        "colab": {
          "base_uri": "https://localhost:8080/"
        },
        "id": "Z0nX4k5r_EAz",
        "outputId": "36a9ed93-cd7a-40ed-9ec0-eac4623ba77c"
      },
      "execution_count": 8,
      "outputs": [
        {
          "output_type": "stream",
          "name": "stdout",
          "text": [
            "69 customers chose to use Credit Card as their payment method.\n",
            "69 customers chose to use PayPal as their payment method.\n",
            "62 customers chose to use Cash on Delivery as their payment method.\n"
          ]
        }
      ]
    },
    {
      "cell_type": "code",
      "source": [
        "# What product was bought the most frequently?\n",
        "product_frequency = df['Product'].value_counts(normalize=True)*100\n",
        "print('Within this sample of customer sales:\\n')\n",
        "for item, count in product_frequency.items():\n",
        "  print(f'{count:.2f}% of customers bought a {item}.')"
      ],
      "metadata": {
        "colab": {
          "base_uri": "https://localhost:8080/"
        },
        "id": "Z0Q8jt1YClZr",
        "outputId": "fb328c50-17a2-42ba-e15b-850dee361ace"
      },
      "execution_count": 14,
      "outputs": [
        {
          "output_type": "stream",
          "name": "stdout",
          "text": [
            "Within this sample of customer sales:\n",
            "\n",
            "29.00% of customers bought a Monitor.\n",
            "19.00% of customers bought a Laptop.\n",
            "18.00% of customers bought a Tablet.\n",
            "17.00% of customers bought a Desktop.\n",
            "17.00% of customers bought a Phone.\n"
          ]
        }
      ]
    },
    {
      "cell_type": "code",
      "source": [
        "avg_satisfaction_rating = round(df['Customer_Satisfaction'].map({'Excellent': 5, 'Very Good': 4, 'Good': 3, 'Fair': 2, 'Poor': 1}).mean())\n",
        "print(f'The average satisfaction rating is {avg_satisfaction_rating} out of 5')"
      ],
      "metadata": {
        "colab": {
          "base_uri": "https://localhost:8080/"
        },
        "id": "ef_ZSuZ-JmlK",
        "outputId": "e68050d2-68e4-47ba-fe29-001319cab33c"
      },
      "execution_count": 36,
      "outputs": [
        {
          "output_type": "stream",
          "name": "stdout",
          "text": [
            "The average satisfaction rating is 3 out of 5\n"
          ]
        }
      ]
    },
    {
      "cell_type": "code",
      "source": [
        "# On average, who spent more per order: new customers or returning?\n",
        "\n",
        "df[\"New_Customer\"] = df[\"New_Customer\"].replace({True: \"New Customer\", False: \"Returning Customer\"})\n",
        "round(df.groupby(\"Customer\")[\"Total_Cost\"].mean())"
      ],
      "metadata": {
        "colab": {
          "base_uri": "https://localhost:8080/",
          "height": 489
        },
        "id": "KE7G-5oVL86q",
        "outputId": "7bb900e6-7e46-402f-cf86-287cc75d07d1"
      },
      "execution_count": 47,
      "outputs": [
        {
          "output_type": "execute_result",
          "data": {
            "text/plain": [
              "Customer\n",
              "Aaron Dalton       1358.0\n",
              "Adam Sawyer         539.0\n",
              "Aimee Lane         1476.0\n",
              "Alexis Davis       3054.0\n",
              "Alicia Ross         660.0\n",
              "                    ...  \n",
              "Vincent Johnson     472.0\n",
              "Wendy Nelson       2846.0\n",
              "William Benson      318.0\n",
              "William Hayes       434.0\n",
              "Zachary Baxter     2406.0\n",
              "Name: Total_Cost, Length: 200, dtype: float64"
            ],
            "text/html": [
              "<div>\n",
              "<style scoped>\n",
              "    .dataframe tbody tr th:only-of-type {\n",
              "        vertical-align: middle;\n",
              "    }\n",
              "\n",
              "    .dataframe tbody tr th {\n",
              "        vertical-align: top;\n",
              "    }\n",
              "\n",
              "    .dataframe thead th {\n",
              "        text-align: right;\n",
              "    }\n",
              "</style>\n",
              "<table border=\"1\" class=\"dataframe\">\n",
              "  <thead>\n",
              "    <tr style=\"text-align: right;\">\n",
              "      <th></th>\n",
              "      <th>Total_Cost</th>\n",
              "    </tr>\n",
              "    <tr>\n",
              "      <th>Customer</th>\n",
              "      <th></th>\n",
              "    </tr>\n",
              "  </thead>\n",
              "  <tbody>\n",
              "    <tr>\n",
              "      <th>Aaron Dalton</th>\n",
              "      <td>1358.0</td>\n",
              "    </tr>\n",
              "    <tr>\n",
              "      <th>Adam Sawyer</th>\n",
              "      <td>539.0</td>\n",
              "    </tr>\n",
              "    <tr>\n",
              "      <th>Aimee Lane</th>\n",
              "      <td>1476.0</td>\n",
              "    </tr>\n",
              "    <tr>\n",
              "      <th>Alexis Davis</th>\n",
              "      <td>3054.0</td>\n",
              "    </tr>\n",
              "    <tr>\n",
              "      <th>Alicia Ross</th>\n",
              "      <td>660.0</td>\n",
              "    </tr>\n",
              "    <tr>\n",
              "      <th>...</th>\n",
              "      <td>...</td>\n",
              "    </tr>\n",
              "    <tr>\n",
              "      <th>Vincent Johnson</th>\n",
              "      <td>472.0</td>\n",
              "    </tr>\n",
              "    <tr>\n",
              "      <th>Wendy Nelson</th>\n",
              "      <td>2846.0</td>\n",
              "    </tr>\n",
              "    <tr>\n",
              "      <th>William Benson</th>\n",
              "      <td>318.0</td>\n",
              "    </tr>\n",
              "    <tr>\n",
              "      <th>William Hayes</th>\n",
              "      <td>434.0</td>\n",
              "    </tr>\n",
              "    <tr>\n",
              "      <th>Zachary Baxter</th>\n",
              "      <td>2406.0</td>\n",
              "    </tr>\n",
              "  </tbody>\n",
              "</table>\n",
              "<p>200 rows × 1 columns</p>\n",
              "</div><br><label><b>dtype:</b> float64</label>"
            ]
          },
          "metadata": {},
          "execution_count": 47
        }
      ]
    },
    {
      "cell_type": "code",
      "source": [
        "# Which products generated the highest revenue?\n",
        "\n",
        "# Group the products to compare with the average total cost\n",
        "product_sales = df.groupby(\"Product\")[\"Total_Cost\"].sum().sort_values(ascending=False)\n",
        "\n",
        "# Bar chart\n",
        "plt.figure(figsize=(10, 5))\n",
        "sns.barplot(x=product_sales.values, y=product_sales.index, palette=\"viridis\")\n",
        "plt.xlabel(\"Total Revenue ($)\")\n",
        "plt.ylabel(\"Product\")\n",
        "plt.title(\"Total Revenue by Product\")\n",
        "plt.show()\n"
      ],
      "metadata": {
        "colab": {
          "base_uri": "https://localhost:8080/",
          "height": 574
        },
        "id": "336uKmQnNG6F",
        "outputId": "f8a024ee-86e7-40bd-c37e-a1357e0f632f"
      },
      "execution_count": 48,
      "outputs": [
        {
          "output_type": "stream",
          "name": "stderr",
          "text": [
            "<ipython-input-48-7d8ed9eebaa8>:6: FutureWarning: \n",
            "\n",
            "Passing `palette` without assigning `hue` is deprecated and will be removed in v0.14.0. Assign the `y` variable to `hue` and set `legend=False` for the same effect.\n",
            "\n",
            "  sns.barplot(x=product_sales.values, y=product_sales.index, palette=\"viridis\")\n"
          ]
        },
        {
          "output_type": "display_data",
          "data": {
            "text/plain": [
              "<Figure size 1000x500 with 1 Axes>"
            ],
            "image/png": "[encoded data removed]"
          },
          "metadata": {}
        }
      ]
    },
    {
      "cell_type": "code",
      "source": [
        "# How many customers were new versus returning?\n",
        "\n",
        "# Count occurrences\n",
        "customer_counts = df[\"New_Customer\"].value_counts()\n",
        "\n",
        "# Pie chart\n",
        "plt.figure(figsize=(6, 6))\n",
        "plt.pie(customer_counts, labels=customer_counts.index, autopct=\"%1.1f%%\", colors=[\"#FF9999\", \"#66B3FF\"])\n",
        "plt.title(\"New vs. Returning Customers\")\n",
        "plt.show()\n"
      ],
      "metadata": {
        "colab": {
          "base_uri": "https://localhost:8080/",
          "height": 521
        },
        "id": "NZdptJmMN6wz",
        "outputId": "f4e50db4-4137-4d41-a110-59298050c87c"
      },
      "execution_count": 61,
      "outputs": [
        {
          "output_type": "display_data",
          "data": {
            "text/plain": [
              "<Figure size 600x600 with 1 Axes>"
            ],
            "image/png": "[encoded data removed]"
          },
          "metadata": {}
        }
      ]
    },
    {
      "cell_type": "code",
      "source": [
        "# Was there an impact on sales when the customer used a higher vs lower discount?\n",
        "\n",
        "plt.figure(figsize=(8, 5))\n",
        "sns.boxplot(x=df[\"Discount_Applied\"]*100, y=df[\"Total_Cost\"], palette=\"coolwarm\")\n",
        "plt.xlabel(\"Discount Applied (%)\")\n",
        "plt.ylabel(\"Total Cost ($)\")\n",
        "plt.title(\"Impact of Discounts on Sales\")\n",
        "# Reduce number of x-ticks\n",
        "plt.xticks(np.arange(0, df[\"Discount_Applied\"].max() + 1, step=5))  # Show every 5% increment\n",
        "plt.show()"
      ],
      "metadata": {
        "colab": {
          "base_uri": "https://localhost:8080/",
          "height": 574
        },
        "id": "oC6jv7lfOjOu",
        "outputId": "fb80a004-51ea-448e-93c5-1a61cbd91a95"
      },
      "execution_count": 60,
      "outputs": [
        {
          "output_type": "stream",
          "name": "stderr",
          "text": [
            "<ipython-input-60-858d48ca5759>:4: FutureWarning: \n",
            "\n",
            "Passing `palette` without assigning `hue` is deprecated and will be removed in v0.14.0. Assign the `x` variable to `hue` and set `legend=False` for the same effect.\n",
            "\n",
            "  sns.boxplot(x=df[\"Discount_Applied\"]*100, y=df[\"Total_Cost\"], palette=\"coolwarm\")\n"
          ]
        },
        {
          "output_type": "display_data",
          "data": {
            "text/plain": [
              "<Figure size 800x500 with 1 Axes>"
            ],
            "image/png": "[encoded data removed]"
          },
          "metadata": {}
        }
      ]
    }
  ]
}